{
 "cells": [
  {
   "cell_type": "markdown",
   "metadata": {},
   "source": [
    "Разработать программу реализующую интегрирование заданной функции методом средних прямоугольников (или иным методом, на выбор) с адаптивной сеткой. Сравнить скорость сходимости данного метода и метода с равномерной сеткой.\n",
    "*Указание: для выбора \"наибольшего\" интервала используйте модуль `heapq` из стандартной библиотеки. (При использовании языка `C++`, используйте `std::set`).* "
   ]
  },
  {
   "cell_type": "code",
   "execution_count": 1,
   "metadata": {},
   "outputs": [],
   "source": [
    "# import libraries that we need\n",
    "import numpy as np\n",
    "import heapq\n",
    "import matplotlib.pyplot as plt\n",
    "%matplotlib inline\n",
    "plt.style.use('fivethirtyeight')"
   ]
  },
  {
   "cell_type": "code",
   "execution_count": 2,
   "metadata": {},
   "outputs": [],
   "source": [
    "# A rectangle is (start, width)\n",
    "# A list element is (-weight, (start, width))\n",
    "\n",
    "def make_rect(a, b, f):\n",
    "    \"\"\"Make a rectangle for the interval [a, b]\"\"\"\n",
    "    rect = (a, b-a)\n",
    "    xm = a + rect[1] / 2.\n",
    "    return (f(xm) * rect[1], rect)\n",
    "    \n",
    "\n",
    "def get_max_elem(lst):\n",
    "    \"\"\"Find rectangular with max square by heap sort, return this element and remaining list\"\"\"\n",
    "    heapq.heapify(lst)\n",
    "    \n",
    "    return lst[-1],lst[:-1]\n",
    "\n",
    "    \n",
    "def adapt_rect_list(f, a, b, npts):\n",
    "    \"\"\"Integrate f(x) from a to b using npts steps of the adaptive algorithm.\n",
    "    \"\"\"\n",
    "    lst = []\n",
    "    # start from a single rectangle\n",
    "    item = make_rect(a, b, f)\n",
    "    lst.append(item)\n",
    "    # loop\n",
    "    for _ in range(npts):\n",
    "        # get the largest one\n",
    "        rect, lst = get_max_elem(lst)\n",
    "        w, (start, width) = rect\n",
    "                \n",
    "        # and split it into two halves\n",
    "        c = start + width / 2.\n",
    "        \n",
    "        rect1 = make_rect(start, c, f)\n",
    "        rect2 = make_rect(c, start + width, f)\n",
    "        \n",
    "        lst.append(rect1)\n",
    "        lst.append(rect2)\n",
    "    # collect the answer\n",
    "    return sum(w for w, r in lst), lst\n",
    "\n",
    "def crect(f, a, b, npts):\n",
    "    \"\"\"Calculate the integral by central rectangular integration\"\"\"\n",
    "    h = (b - a) / npts\n",
    "    summ = 0\n",
    "    for j in range(npts):\n",
    "        x = a + h*(j + 0.5)\n",
    "        summ += f(x)\n",
    "    return summ * h"
   ]
  },
  {
   "cell_type": "code",
   "execution_count": 3,
   "metadata": {},
   "outputs": [
    {
     "name": "stdout",
     "output_type": "stream",
     "text": [
      "n, res =  5 0.7921436846593407\n",
      "n, res =  25 0.9903744105507674\n",
      "n, res =  125 0.9995254841578629\n",
      "n, res =  250 0.9997636401049373\n",
      "n, res =  500 0.9998166847139779\n",
      "n, res =  1000 0.9998277637078664\n",
      "n, res =  5000 0.9998400734567691\n",
      "Exact value: 0.9999999979388464\n"
     ]
    }
   ],
   "source": [
    "def f(x):\n",
    "    \"\"\"Define the function that have to be integrated\"\"\"\n",
    "    return (np.exp(-x))\n",
    "    #return np.exp(-x)*x\n",
    "\"\"\"Define start and end points of integration\"\"\"\n",
    "a, b = 0, 20\n",
    "\n",
    "def exact(a, b):\n",
    "    \"\"\"Define the exact value of integral\"\"\"\n",
    "    return (-np.exp(-b)+np.exp(-a))\n",
    "    #return (-np.exp(-b)*(b+1)-(-np.exp(-a)*(a+1)))\n",
    "\n",
    "\"\"\"Test the adaptive rectangular algorithm with different numbers of division the mesh\"\"\"\n",
    "for n in (5, 25, 125, 250, 500, 1000, 5000):\n",
    "    res, lst = adapt_rect_list(f, a, b, n)\n",
    "    print ('n, res = ', n, res)\n",
    "print ('Exact value:', exact(a,b))\n"
   ]
  },
  {
   "cell_type": "code",
   "execution_count": 4,
   "metadata": {},
   "outputs": [
    {
     "name": "stdout",
     "output_type": "stream",
     "text": [
      "75.2 ms ± 4.47 ms per loop (mean ± std. dev. of 7 runs, 10 loops each)\n"
     ]
    }
   ],
   "source": [
    "\"\"\"Calculate the time of working of algorithm\"\"\"\n",
    "\"\"\"See that by using heap sort the algorithm becomes faster (in lecture we have 128ms)\"\"\"\n",
    "%timeit adapt_rect_list(f, a, b, npts=1000)"
   ]
  },
  {
   "cell_type": "code",
   "execution_count": 5,
   "metadata": {},
   "outputs": [
    {
     "data": {
      "image/png": "[encoded data removed]",
      "text/plain": [
       "<Figure size 432x288 with 1 Axes>"
      ]
     },
     "metadata": {
      "needs_background": "light"
     },
     "output_type": "display_data"
    }
   ],
   "source": [
    "\"\"\"Calculate the results of adaptive and fixed mesh algorithms with different n to compare the speed of convergence\"\"\"\n",
    "res1 = []\n",
    "res2 = []\n",
    "a, b = 0, 20\n",
    "npts = [5, 10, 15, 20, 25, 30, 35, 40, 45, 50, 55, 60, 65, 70, 75, 80]\n",
    "for k in npts:\n",
    "    res1.append(abs(adapt_rect_list(f, a, b, k)[0]-exact(a,b)))\n",
    "    res2.append(abs(crect(f,a,b,k)-exact(a,b)))\n",
    "\n",
    "plt.figure()\n",
    "plt.plot(npts,res1,label = 'adaptive')\n",
    "plt.plot(npts,res2,label = 'fixed')\n",
    "plt.ylabel('Error')\n",
    "plt.xlabel('n')\n",
    "plt.legend()\n",
    "plt.plot()\n",
    "plt.show()"
   ]
  },
  {
   "cell_type": "markdown",
   "metadata": {},
   "source": [
    "### See that the adaptive algorithm converges faster than fixed-mesh algorithm"
   ]
  },
  {
   "cell_type": "code",
   "execution_count": null,
   "metadata": {},
   "outputs": [],
   "source": []
  }
 ],
 "metadata": {
  "kernelspec": {
   "display_name": "Python 3",
   "language": "python",
   "name": "python3"
  },
  "language_info": {
   "codemirror_mode": {
    "name": "ipython",
    "version": 3
   },
   "file_extension": ".py",
   "mimetype": "text/x-python",
   "name": "python",
   "nbconvert_exporter": "python",
   "pygments_lexer": "ipython3",
   "version": "3.7.0"
  }
 },
 "nbformat": 4,
 "nbformat_minor": 2
}
