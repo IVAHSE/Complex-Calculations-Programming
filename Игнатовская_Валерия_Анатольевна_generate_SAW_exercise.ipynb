{
 "cells": [
  {
   "cell_type": "markdown",
   "metadata": {},
   "source": [
    "# I. Generate all lattice walks, 2D square lattice"
   ]
  },
  {
   "cell_type": "code",
   "execution_count": 1,
   "metadata": {},
   "outputs": [],
   "source": [
    "# This I showed in class:\n",
    "\n",
    "\n",
    "steps = [(1, 0), (-1, 0), (0, 1), (0, -1)]\n",
    "\n",
    "def generate_walks(path, L):\n",
    "    \"\"\"Generate all random walks on the 2D square lattice.\"\"\"\n",
    "    if L == 0:\n",
    "        print(path)\n",
    "    else:\n",
    "        for dx, dy in steps:\n",
    "            x, y = path[-1]\n",
    "            pp = path.copy()\n",
    "            pp.append((x + dx, y + dy))\n",
    "            generate_walks(pp, L - 1)"
   ]
  },
  {
   "cell_type": "code",
   "execution_count": 2,
   "metadata": {},
   "outputs": [
    {
     "name": "stdout",
     "output_type": "stream",
     "text": [
      "[(0, 0), (1, 0), (2, 0)]\n",
      "[(0, 0), (1, 0), (0, 0)]\n",
      "[(0, 0), (1, 0), (1, 1)]\n",
      "[(0, 0), (1, 0), (1, -1)]\n",
      "[(0, 0), (-1, 0), (0, 0)]\n",
      "[(0, 0), (-1, 0), (-2, 0)]\n",
      "[(0, 0), (-1, 0), (-1, 1)]\n",
      "[(0, 0), (-1, 0), (-1, -1)]\n",
      "[(0, 0), (0, 1), (1, 1)]\n",
      "[(0, 0), (0, 1), (-1, 1)]\n",
      "[(0, 0), (0, 1), (0, 2)]\n",
      "[(0, 0), (0, 1), (0, 0)]\n",
      "[(0, 0), (0, -1), (1, -1)]\n",
      "[(0, 0), (0, -1), (-1, -1)]\n",
      "[(0, 0), (0, -1), (0, 0)]\n",
      "[(0, 0), (0, -1), (0, -2)]\n"
     ]
    }
   ],
   "source": [
    "generate_walks([(0, 0)], 2)"
   ]
  },
  {
   "cell_type": "markdown",
   "metadata": {},
   "source": [
    "## Store the walks\n",
    "\n",
    "Printing walks is nice, but not very useful. Better construct a list of all walks, for postprocessing. To this end, add a `cache` parameter, which stores all generated walks."
   ]
  },
  {
   "cell_type": "code",
   "execution_count": 3,
   "metadata": {},
   "outputs": [],
   "source": [
    "steps = [(1, 0), (-1, 0), (0, 1), (0, -1)]\n",
    "\n",
    "def generate_walks2(path, L, cache):\n",
    "    if L == 0:\n",
    "        cache.append(path)\n",
    "    else:\n",
    "        for dx, dy in steps:\n",
    "            x, y = path[-1]\n",
    "            xy_new = (x + dx, y + dy)\n",
    "            pp = path.copy()\n",
    "            pp.append(xy_new)\n",
    "            generate_walks2(pp, L - 1, cache)"
   ]
  },
  {
   "cell_type": "code",
   "execution_count": 4,
   "metadata": {},
   "outputs": [
    {
     "data": {
      "text/plain": [
       "16"
      ]
     },
     "execution_count": 4,
     "metadata": {},
     "output_type": "execute_result"
    }
   ],
   "source": [
    "cache = []\n",
    "generate_walks2([(0, 0)], 2, cache)\n",
    "len(cache)"
   ]
  },
  {
   "cell_type": "markdown",
   "metadata": {},
   "source": [
    "## Task 0\n",
    "\n",
    "Compute the average end-to-end distance of random walks of a given length. What is the scaling of the end-to-end distance with the length of the walk? What is the scaling of the mean *square* end-to-end distance with the length?"
   ]
  },
  {
   "cell_type": "markdown",
   "metadata": {},
   "source": [
    "$\\textit{Answers}$:\n",
    "1. the average end-to-end vector is zero-vector if you mean vector (from your letter), not its length\n",
    "2. $||R||$ ~ $\\sqrt{n}$ with some coefficient, where $R$ is the end-to-end vector\n",
    "3. $||R||^2$ ~ $n$\n",
    "\n",
    "$\\textit{Comments and codes}$:"
   ]
  },
  {
   "cell_type": "code",
   "execution_count": 5,
   "metadata": {},
   "outputs": [
    {
     "data": {
      "text/plain": [
       "((-8, -1), (-8.0, -1.0))"
      ]
     },
     "execution_count": 5,
     "metadata": {},
     "output_type": "execute_result"
    }
   ],
   "source": [
    "# OK, each of end-to-end vectors-distances of random walks \n",
    "# has symmetric one (and only one!) that has symmetric path with respect to the start point\n",
    "# so the average end-to-end vector of random walks of a given length is equal to zero-vector\n",
    "# See the function below that shows the start and end points of the average vector\n",
    "def average_end_to_end_vector(path,n):\n",
    "    path1=[(0,0)]\n",
    "    left = path1[0][0]\n",
    "    right = path1[0][1]\n",
    "    cache=[]\n",
    "    generate_walks2(path1,n,cache)\n",
    "    for i in range(len(cache)):\n",
    "        left += cache[i][-1][0]\n",
    "        right += cache[i][-1][1]\n",
    "    return (path[0],(path[0][0]+round(left/len(cache),2),path[0][1]+round(right/len(cache),2)))\n",
    "\n",
    "average_end_to_end_vector([(-8,-1)],4) #as we see, the start and end point of vector are the same, so it is a zero-vector"
   ]
  },
  {
   "cell_type": "code",
   "execution_count": 6,
   "metadata": {},
   "outputs": [
    {
     "data": {
      "text/plain": [
       "1.5885254915624203"
      ]
     },
     "execution_count": 6,
     "metadata": {},
     "output_type": "execute_result"
    }
   ],
   "source": [
    "#In fact, the scaling of the end-to-end distance with the length N of the walk tends to the square root of N with increasing N\n",
    "#See the function below that give the scaling  of the end-to-end distance taking the number of steps N\n",
    "def scaling_end_to_end_distance(path,n):\n",
    "    cache=[]\n",
    "    generate_walks2(path,n,cache)\n",
    "    r=0\n",
    "    for i in range(len(cache)):\n",
    "        r += ((cache[i][-1][0]-cache[i][0][0])**2+(cache[i][0][1]-cache[i][-1][1])**2)**(1/2)\n",
    "    return (r/len(cache))\n",
    "\n",
    "scaling_end_to_end_distance([(2,2)],3)"
   ]
  },
  {
   "cell_type": "code",
   "execution_count": 7,
   "metadata": {},
   "outputs": [
    {
     "name": "stdout",
     "output_type": "stream",
     "text": [
      "When n = 2  then n^1/2 = 1.41  and ||R|| = 1.21\n",
      "When n = 3  then n^1/2 = 1.73  and ||R|| = 1.59\n",
      "When n = 4  then n^1/2 = 2.0  and ||R|| = 1.75\n",
      "When n = 5  then n^1/2 = 2.24  and ||R|| = 2.02\n",
      "When n = 6  then n^1/2 = 2.45  and ||R|| = 2.16\n",
      "When n = 7  then n^1/2 = 2.65  and ||R|| = 2.37\n"
     ]
    }
   ],
   "source": [
    "# testing the relation between ||R|| and sqrt(n)\n",
    "test = [2,3,4,5,6,7]\n",
    "for i in test:\n",
    "    print ('When n =',i,' then n^1/2 =',round(i**(1/2),2),' and ||R|| =',round(scaling_end_to_end_distance([(0,0)],i),2))"
   ]
  },
  {
   "cell_type": "code",
   "execution_count": 8,
   "metadata": {},
   "outputs": [
    {
     "data": {
      "text/plain": [
       "4.0"
      ]
     },
     "execution_count": 8,
     "metadata": {},
     "output_type": "execute_result"
    }
   ],
   "source": [
    "# The scaling of the mean square end-to-end distance with the length N is equal to N\n",
    "# See the function below\n",
    "def scaling_of_the_mean_square_end_to_end_distance(path,n):\n",
    "    cache=[]\n",
    "    generate_walks2(path,n,cache)\n",
    "    r=0\n",
    "    for i in range(len(cache)):\n",
    "        r += (cache[i][-1][0]-cache[i][0][0])**2+(cache[i][0][1]-cache[i][-1][1])**2\n",
    "    return (r/len(cache))\n",
    "\n",
    "scaling_of_the_mean_square_end_to_end_distance([(-8,-9)],4)"
   ]
  },
  {
   "cell_type": "code",
   "execution_count": 9,
   "metadata": {},
   "outputs": [
    {
     "name": "stdout",
     "output_type": "stream",
     "text": [
      "When n = 2  then ||R||^2 = 2.0\n",
      "When n = 3  then ||R||^2 = 3.0\n",
      "When n = 4  then ||R||^2 = 4.0\n",
      "When n = 5  then ||R||^2 = 5.0\n",
      "When n = 6  then ||R||^2 = 6.0\n",
      "When n = 7  then ||R||^2 = 7.0\n"
     ]
    }
   ],
   "source": [
    "# testing the relation between ||R|| and n\n",
    "test = [2,3,4,5,6,7]\n",
    "for i in test:\n",
    "    print ('When n =',i,' then ||R||^2 =',round(scaling_of_the_mean_square_end_to_end_distance([(0,0)],i),2))"
   ]
  },
  {
   "cell_type": "markdown",
   "metadata": {},
   "source": [
    "# I. Generate all SAWs on a 2D square lattice\n",
    "\n",
    "A self-avoiding walk is a random walk where a lattice site can only be visited once."
   ]
  },
  {
   "cell_type": "code",
   "execution_count": 10,
   "metadata": {},
   "outputs": [],
   "source": [
    "steps = [(1, 0), (-1, 0), (0, 1), (0, -1)]\n",
    "\n",
    "def generate_SAWs(path, L, cache):\n",
    "    if L==0:\n",
    "        cache.append(path)\n",
    "    else:\n",
    "        for dx,dy in steps:\n",
    "            x,y = path[-1]\n",
    "            pp=path.copy()\n",
    "            a = (x+dx,y+dy)\n",
    "            if a not in pp:\n",
    "                pp.append(a)\n",
    "                generate_SAWs(pp,L-1,cache)"
   ]
  },
  {
   "cell_type": "code",
   "execution_count": 11,
   "metadata": {},
   "outputs": [
    {
     "data": {
      "text/plain": [
       "[[(2, 3), (3, 3), (4, 3)],\n",
       " [(2, 3), (3, 3), (3, 4)],\n",
       " [(2, 3), (3, 3), (3, 2)],\n",
       " [(2, 3), (1, 3), (0, 3)],\n",
       " [(2, 3), (1, 3), (1, 4)],\n",
       " [(2, 3), (1, 3), (1, 2)],\n",
       " [(2, 3), (2, 4), (3, 4)],\n",
       " [(2, 3), (2, 4), (1, 4)],\n",
       " [(2, 3), (2, 4), (2, 5)],\n",
       " [(2, 3), (2, 2), (3, 2)],\n",
       " [(2, 3), (2, 2), (1, 2)],\n",
       " [(2, 3), (2, 2), (2, 1)]]"
      ]
     },
     "execution_count": 11,
     "metadata": {},
     "output_type": "execute_result"
    }
   ],
   "source": [
    "cache = []\n",
    "generate_SAWs([(2,3)],2,cache)\n",
    "cache"
   ]
  },
  {
   "cell_type": "markdown",
   "metadata": {},
   "source": [
    "## Task 1\n",
    "\n",
    "How many walks of a given length are there? What is the mean end-to-end distance of walks of a given length? What is mean *square* of the end-to-end distance?"
   ]
  },
  {
   "cell_type": "markdown",
   "metadata": {},
   "source": [
    "$\\textit{Answers}$:\n",
    "1. The number of $n$-step SAWs behaves asymptotically as: $\\big|cache(n)\\big|$ ~ $\\mu^n n^\\nu$ where $\\mu$ is not known and $\\nu=\\frac{11}{32}$. (This fact was taken from http://www.labri.fr/perso/bousquet/Exposes/fpsac-saw.pdf)\n",
    "2. $||R||$ ~ $n^{\\frac{3}{4}}$ where $R$ is the end-to-end vector\n",
    "3. $||R||^2$ ~ $n^{\\frac{3}{2}}$\n",
    "\n",
    "$\\textit{Comments and codes:}$"
   ]
  },
  {
   "cell_type": "code",
   "execution_count": 12,
   "metadata": {},
   "outputs": [
    {
     "data": {
      "text/plain": [
       "284"
      ]
     },
     "execution_count": 12,
     "metadata": {},
     "output_type": "execute_result"
    }
   ],
   "source": [
    "def how_many_walks(path,n):\n",
    "    cache=[]\n",
    "    generate_SAWs(path,n,cache)\n",
    "    return(len(cache))\n",
    "\n",
    "how_many_walks([(3,4)],5)"
   ]
  },
  {
   "cell_type": "code",
   "execution_count": 13,
   "metadata": {},
   "outputs": [
    {
     "data": {
      "text/plain": [
       "3.3905293993647274"
      ]
     },
     "execution_count": 13,
     "metadata": {},
     "output_type": "execute_result"
    }
   ],
   "source": [
    "def mean_end_to_end_distance(path,n):\n",
    "    cache=[]\n",
    "    generate_SAWs(path,n,cache)\n",
    "    r=0\n",
    "    for i in range(len(cache)):\n",
    "        r += ((cache[i][-1][0]-cache[i][0][0])**2+(cache[i][0][1]-cache[i][-1][1])**2)**(1/2)\n",
    "    return (r/len(cache))\n",
    "\n",
    "mean_end_to_end_distance([(4,2)],6)"
   ]
  },
  {
   "cell_type": "code",
   "execution_count": 14,
   "metadata": {},
   "outputs": [
    {
     "name": "stdout",
     "output_type": "stream",
     "text": [
      "When n = 2  then n^3/4 = 1.68  and ||R|| = 1.61\n",
      "When n = 3  then n^3/4 = 2.28  and ||R|| = 2.05\n",
      "When n = 4  then n^3/4 = 2.83  and ||R|| = 2.56\n",
      "When n = 5  then n^3/4 = 3.34  and ||R|| = 2.95\n",
      "When n = 6  then n^3/4 = 3.83  and ||R|| = 3.39\n",
      "When n = 7  then n^3/4 = 4.3  and ||R|| = 3.75\n"
     ]
    }
   ],
   "source": [
    "# testing the relation between ||R|| and n^3/4\n",
    "test = [2,3,4,5,6,7]\n",
    "for i in test:\n",
    "    print ('When n =',i,' then n^3/4 =',round(i**(3/4),2),' and ||R|| =',round(mean_end_to_end_distance([(0,0)],i),2))"
   ]
  },
  {
   "cell_type": "code",
   "execution_count": 15,
   "metadata": {},
   "outputs": [
    {
     "data": {
      "text/plain": [
       "9.56338028169014"
      ]
     },
     "execution_count": 15,
     "metadata": {},
     "output_type": "execute_result"
    }
   ],
   "source": [
    "def mean_square_end_to_end_distance(path,n):\n",
    "    cache=[]\n",
    "    generate_SAWs(path,n,cache)\n",
    "    r=0\n",
    "    for i in range(len(cache)):\n",
    "        r += (cache[i][-1][0]-cache[i][0][0])**2+(cache[i][0][1]-cache[i][-1][1])**2\n",
    "    return (r/len(cache))\n",
    "\n",
    "mean_square_end_to_end_distance([(-8,-9)],5)"
   ]
  },
  {
   "cell_type": "code",
   "execution_count": 16,
   "metadata": {},
   "outputs": [
    {
     "name": "stdout",
     "output_type": "stream",
     "text": [
      "When n = 2   then n^3/2 = 2.83  and ||R||^2 = 2.67\n",
      "When n = 3   then n^3/2 = 5.2  and ||R||^2 = 4.56\n",
      "When n = 4   then n^3/2 = 8.0  and ||R||^2 = 7.04\n",
      "When n = 5   then n^3/2 = 11.18  and ||R||^2 = 9.56\n",
      "When n = 6   then n^3/2 = 14.7  and ||R||^2 = 12.57\n",
      "When n = 7   then n^3/2 = 18.52  and ||R||^2 = 15.56\n"
     ]
    }
   ],
   "source": [
    "# testing the relation between ||R|| and n^3/2\n",
    "test = [2,3,4,5,6,7]\n",
    "for i in test:\n",
    "    print ('When n =',i,'  then n^3/2 =',round(i**(3/2),2),' and ||R||^2 =',round(mean_square_end_to_end_distance([(0,0)],i),2))"
   ]
  },
  {
   "cell_type": "code",
   "execution_count": null,
   "metadata": {},
   "outputs": [],
   "source": []
  }
 ],
 "metadata": {
  "kernelspec": {
   "display_name": "Python 3",
   "language": "python",
   "name": "python3"
  },
  "language_info": {
   "codemirror_mode": {
    "name": "ipython",
    "version": 3
   },
   "file_extension": ".py",
   "mimetype": "text/x-python",
   "name": "python",
   "nbconvert_exporter": "python",
   "pygments_lexer": "ipython3",
   "version": "3.6.5"
  }
 },
 "nbformat": 4,
 "nbformat_minor": 2
}
