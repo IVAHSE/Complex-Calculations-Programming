{
 "cells": [
  {
   "cell_type": "markdown",
   "metadata": {},
   "source": [
    "Exercise 1. Implement integration over a rectangular domain with a double Legendre quadrature."
   ]
  },
  {
   "cell_type": "code",
   "execution_count": 1,
   "metadata": {},
   "outputs": [],
   "source": [
    "# импорт необходимых библиотек\n",
    "from scipy.integrate import dblquad, tplquad, nquad, quadrature\n",
    "import numpy as np"
   ]
  },
  {
   "cell_type": "code",
   "execution_count": 2,
   "metadata": {},
   "outputs": [],
   "source": [
    "# задаем функцию, интеграл от которой будем брать, а также концы интегрируемых отрезков и число членов в суммах\n",
    "f = lambda x, y: x**2 + 3*y**3\n",
    "a1, a2 = 0, 0\n",
    "b1, b2 = 3, 3\n",
    "n, m = 1000, 1000"
   ]
  },
  {
   "cell_type": "code",
   "execution_count": 3,
   "metadata": {},
   "outputs": [],
   "source": [
    "# функция, выполняющая интегрирование по алгоритму Лежандра-Гаусса\n",
    "def integration_over_rectangular_double_Legendre(f,a1=0,b1=1,a2=0,b2=1,n=1000,m=1000):\n",
    "    integral = 0 \n",
    "    for i in range(0, n):\n",
    "        x = a1 + (b1 - a1) * (i + 0.5) / n\n",
    "        for j in range(0, m):      \n",
    "            y = a2 + (b2 - a2) * (j + 0.5) / m\n",
    "            integral += f(x, y) * (b2 - a2)*(b1 - a1) / (n * m)\n",
    "    return(integral)"
   ]
  },
  {
   "cell_type": "code",
   "execution_count": 4,
   "metadata": {},
   "outputs": [],
   "source": [
    "# функция, проверяющая корректность подсчета интеграла\n",
    "def check_correct():\n",
    "    calc = integration_over_rectangular_double_Legendre(f, a1, b1, a2, b2, n, m)\n",
    "    exact = dblquad(f, 0, 3, lambda x: 0, lambda x: 3)[0]\n",
    "    print('Exact:', exact, '\\n', 'Calculate:', calc)"
   ]
  },
  {
   "cell_type": "code",
   "execution_count": 5,
   "metadata": {},
   "outputs": [
    {
     "name": "stdout",
     "output_type": "stream",
     "text": [
      "Exact: 209.25 \n",
      " Calculate: 209.24990212501024\n"
     ]
    }
   ],
   "source": [
    "# вызов функции\n",
    "check_correct()"
   ]
  },
  {
   "cell_type": "markdown",
   "metadata": {},
   "source": [
    "#### Как мы видим, наш подсчет довольно точный."
   ]
  },
  {
   "cell_type": "markdown",
   "metadata": {},
   "source": [
    "Exercise 2. Implement integration over a trangular domain with a mixed Legendre/Jacobi quadrature. "
   ]
  },
  {
   "cell_type": "code",
   "execution_count": 6,
   "metadata": {},
   "outputs": [],
   "source": [
    "# вспомогательная функция подсчета якобиана преобразования, отображающего треугольную область в единич квадрат\n",
    "def dJ( u, v, p1, p2, p3 ):\n",
    "    \n",
    "    x1, y1 = p1\n",
    "    x2, y2 = p2\n",
    "    x3, y3 = p3\n",
    "    dxdu = ( (1 - v) * x2 + v * x3 - x1 )\n",
    "    dxdv = ( u * x3 - u * x2 )\n",
    "    dydu = ( (1 - v) * y2 + v * y3 - y1 )\n",
    "    dydv = ( u * y3 - u * y2 )\n",
    "    return np.abs( dxdu * dydv - dxdv * dydu )"
   ]
  },
  {
   "cell_type": "code",
   "execution_count": 7,
   "metadata": {},
   "outputs": [],
   "source": [
    "# функция двойного квадратурного интегрирования по треугольной области\n",
    "# на входе - интегрируемая функция и вершины треугольника\n",
    "# на выходе - посчитанный интеграл и абсолютная ошибка подсчета\n",
    "def tridblquad( integrand, p1, p2, p3 ):\n",
    "    \n",
    "    x1, y1 = p1 ; x2, y2 = p2 ; x3, y3 = p3\n",
    "    # функция-преобразование в единичный квадрат\n",
    "    g = lambda u, v, c1, c2, c3: (1-u)*c1 + u*( (1-v)*c2 + v*c3 )\n",
    "    # преобразуем наш интеграл с учетом якобиана-множителя\n",
    "    def h( u, v ):\n",
    "        x = g( u, v, x1, x2, x3 )\n",
    "        y = g( u, v, y1, y2, y3 )\n",
    "        I = integrand( x, y )\n",
    "        I *= dJ( u, v, p1, p2, p3 )\n",
    "        return I\n",
    "    # считаем интеграл известным пакетом в новом пространстве\n",
    "    integral, error = dblquad( h, 0, 1, lambda x: 0, lambda x: 1)\n",
    "    return integral, error"
   ]
  },
  {
   "cell_type": "code",
   "execution_count": 8,
   "metadata": {},
   "outputs": [
    {
     "name": "stdout",
     "output_type": "stream",
     "text": [
      "Calculate: 2.0\n"
     ]
    }
   ],
   "source": [
    "# Проверка проводится на подсчете площади треугольника с вершинами (0,0), (2,0), (0,2)\n",
    "# Площадь такого треугольника, очевидно, должна равняться 2\n",
    "area, error = tridblquad( lambda x, y: 1., (0.,0.), (2.,0.), (0.,2.) )\n",
    "print ('Calculate:',area)"
   ]
  },
  {
   "cell_type": "code",
   "execution_count": null,
   "metadata": {},
   "outputs": [],
   "source": []
  }
 ],
 "metadata": {
  "kernelspec": {
   "display_name": "Python 3",
   "language": "python",
   "name": "python3"
  },
  "language_info": {
   "codemirror_mode": {
    "name": "ipython",
    "version": 3
   },
   "file_extension": ".py",
   "mimetype": "text/x-python",
   "name": "python",
   "nbconvert_exporter": "python",
   "pygments_lexer": "ipython3",
   "version": "3.7.0"
  }
 },
 "nbformat": 4,
 "nbformat_minor": 2
}
