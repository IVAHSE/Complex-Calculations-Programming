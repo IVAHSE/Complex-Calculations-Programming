{
 "cells": [
  {
   "cell_type": "markdown",
   "metadata": {},
   "source": [
    "# Roman numerals"
   ]
  },
  {
   "cell_type": "markdown",
   "metadata": {},
   "source": [
    "## I. Roman numerals to decimals\n",
    "\n",
    "Write a function which receives a Roman numeral written out as a string, and returns an integer representing the decimal form of the input number. "
   ]
  },
  {
   "cell_type": "code",
   "execution_count": 1,
   "metadata": {},
   "outputs": [],
   "source": [
    "mapping = {\"I\" : 1, \n",
    "           \"V\" : 5,\n",
    "           \"X\" : 10,\n",
    "           \"L\" : 50,\n",
    "           \"C\" : 100,\n",
    "           \"D\" : 500,\n",
    "           \"M\" : 1000}"
   ]
  },
  {
   "cell_type": "code",
   "execution_count": 2,
   "metadata": {},
   "outputs": [],
   "source": [
    "def roman_to_decimal(rom,summa=0,k=0):\n",
    "    if k==0: # мы считаем с конца, поэтому при первом входе сразу прибавим последний символ, в дальнейшем будет сравнение последнего и предпоследнего\n",
    "        summa +=mapping[rom[-1]]\n",
    "        k=1\n",
    "    if len(rom)!=1: # если длина больше 1, то сравниваем последний и предпоследние символы, чтобы определить + или -\n",
    "        if mapping[rom[-2]]>=mapping[rom[-1]]: # если предпоследний символ больше последнего, то +\n",
    "            summa += mapping[rom[-2]]\n",
    "        else:\n",
    "            summa -= mapping[rom[-2]] # если предпоследний символ меньше последнего, то -\n",
    "        roman_to_decimal(rom[:-1],summa,k)\n",
    "    return dec"
   ]
  },
  {
   "cell_type": "markdown",
   "metadata": {},
   "source": [
    "Here are some tests for you to test your code. Your code must pass all of them. You also need to come up with several more tests (your choice)."
   ]
  },
  {
   "cell_type": "code",
   "execution_count": 3,
   "metadata": {},
   "outputs": [
    {
     "name": "stdout",
     "output_type": "stream",
     "text": [
      "True\n",
      "True\n",
      "True\n",
      "True\n",
      "True\n",
      "True\n",
      "True\n",
      "True\n",
      "True\n",
      "True\n"
     ]
    }
   ],
   "source": [
    "test_pairs = [(\"IX\", 9), (\"XI\", 11), (\"MCCII\", 1202), (\"MMXVIII\", 2018), (\"XLIX\", 49)]\n",
    "\n",
    "for rom, dec in test_pairs:\n",
    "    converted = roman_to_decimal(rom)\n",
    "    print(converted == dec)\n",
    "\n",
    "# own examples\n",
    "test_pairs1 = [('MCDXI',1411), ('CCXLIV',244), ('XXIX',29), ('MMCCXCV',2295), ('CMXCIX',999)]\n",
    "\n",
    "for rom, dec in test_pairs1:\n",
    "    converted = roman_to_decimal(rom)\n",
    "    print(converted == dec)"
   ]
  },
  {
   "cell_type": "markdown",
   "metadata": {},
   "source": [
    "## II. Decimal numbers to roman numerals.\n",
    "\n",
    "The maximum grade for first task (Roman to decimal) is 7 on the 10-point HSE scale. For extra credit, complete the second task: *given a decimal number, convert it to the Roman form*."
   ]
  },
  {
   "cell_type": "code",
   "execution_count": 4,
   "metadata": {},
   "outputs": [],
   "source": [
    "def decimal_to_roman(dec):\n",
    "    if dec<0 or dec>3999: # римскими записывались полож числа до 4000\n",
    "        return ('Error: not valid number')\n",
    "    else:\n",
    "        rom = ''\n",
    "        mapping = {'M':1000,'CM':900,'D':500,'CD':400,'C':100,'XC':90,'L':50,'XL':40,'X':10,'IX':9,'V':5,'IV':4,'I':1}\n",
    "        for i in mapping.keys(): \n",
    "            rom += i*(dec//mapping[i])\n",
    "            dec -= mapping[i]*(dec//mapping[i])\n",
    "        return rom"
   ]
  },
  {
   "cell_type": "markdown",
   "metadata": {},
   "source": [
    "You need to come up with test cases to show that your conversion works as expected. \n",
    "NB: the conversion is ambiguous in some cases. Any valid conversion is accepted. "
   ]
  },
  {
   "cell_type": "code",
   "execution_count": 5,
   "metadata": {},
   "outputs": [
    {
     "name": "stdout",
     "output_type": "stream",
     "text": [
      "True\n",
      "True\n",
      "True\n",
      "True\n",
      "True\n"
     ]
    },
    {
     "data": {
      "text/plain": [
       "'Error: not valid number'"
      ]
     },
     "execution_count": 5,
     "metadata": {},
     "output_type": "execute_result"
    }
   ],
   "source": [
    "test_pairs = [(\"XXXIV\", 34), (\"CXLVII\", 147), (\"MCMLXXIV\", 1974), (\"DCXCVI\", 696), (\"MCDLXXXIII\", 1483)]\n",
    "\n",
    "for rom, dec in test_pairs:\n",
    "    converted = decimal_to_roman(dec)\n",
    "    print(converted == rom)\n",
    "    \n",
    "decimal_to_roman(5467) #only numbers less than 3999 can be written by roman"
   ]
  },
  {
   "cell_type": "code",
   "execution_count": null,
   "metadata": {},
   "outputs": [],
   "source": []
  }
 ],
 "metadata": {
  "kernelspec": {
   "display_name": "Python 3",
   "language": "python",
   "name": "python3"
  },
  "language_info": {
   "codemirror_mode": {
    "name": "ipython",
    "version": 3
   },
   "file_extension": ".py",
   "mimetype": "text/x-python",
   "name": "python",
   "nbconvert_exporter": "python",
   "pygments_lexer": "ipython3",
   "version": "3.6.5"
  }
 },
 "nbformat": 4,
 "nbformat_minor": 2
}
