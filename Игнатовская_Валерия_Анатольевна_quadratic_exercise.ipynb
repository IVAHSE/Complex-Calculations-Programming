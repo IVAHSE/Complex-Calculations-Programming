{
 "cells": [
  {
   "cell_type": "markdown",
   "metadata": {},
   "source": [
    "## Solve a quadratic equation, $x^2 + b x + c = 0$."
   ]
  },
  {
   "cell_type": "code",
   "execution_count": 1,
   "metadata": {},
   "outputs": [],
   "source": [
    "from numpy import allclose\n",
    "import cmath"
   ]
  },
  {
   "cell_type": "code",
   "execution_count": 2,
   "metadata": {},
   "outputs": [],
   "source": [
    "def solve_quad(b, c):\n",
    "    b = float(b)\n",
    "    c = float(c)\n",
    "    D = b**2-4*c # считаем дискриминант\n",
    "    if cmath.sqrt(D)==abs(b): # если своб. член ур-ия мал по модулю по сравнению с b^2, то D~b^2 и sqrt(D)~b, а корни -b и -с/b\n",
    "        return(-b,-c/b)\n",
    "    else: # если все хорошо\n",
    "        return (-b/2+cmath.sqrt(D/4),-b/2-cmath.sqrt(D/4))"
   ]
  },
  {
   "cell_type": "markdown",
   "metadata": {},
   "source": [
    "Test the function"
   ]
  },
  {
   "cell_type": "code",
   "execution_count": 3,
   "metadata": {},
   "outputs": [],
   "source": [
    "variants = [{'b': 4.0, 'c': 3.0},\n",
    "            {'b': 2.0, 'c': 1.0},\n",
    "            {'b': 0.5, 'c': 4.0},\n",
    "            {'b': 1e10, 'c': 3.0},\n",
    "            {'b': -1e10, 'c': 4.0},\n",
    "            # свои примеры\n",
    "            {'b': 1.0, 'c': 1e10},\n",
    "            {'b': -3.0, 'c':-1e10},\n",
    "            {'b': 5.0, 'c':12.0},\n",
    "            {'b': -7.0, 'c':11.0},\n",
    "            {'b': 1.0, 'c':0.0}]"
   ]
  },
  {
   "cell_type": "code",
   "execution_count": 4,
   "metadata": {},
   "outputs": [
    {
     "name": "stdout",
     "output_type": "stream",
     "text": [
      "True\n",
      "True\n",
      "True\n",
      "True\n",
      "True\n",
      "True\n",
      "True\n",
      "True\n",
      "True\n",
      "True\n"
     ]
    }
   ],
   "source": [
    "for var in variants:\n",
    "    x1, x2 = solve_quad(**var)\n",
    "    print(allclose(x1*x2, var['c']))"
   ]
  },
  {
   "cell_type": "code",
   "execution_count": null,
   "metadata": {},
   "outputs": [],
   "source": []
  }
 ],
 "metadata": {
  "kernelspec": {
   "display_name": "Python 3",
   "language": "python",
   "name": "python3"
  },
  "language_info": {
   "codemirror_mode": {
    "name": "ipython",
    "version": 3
   },
   "file_extension": ".py",
   "mimetype": "text/x-python",
   "name": "python",
   "nbconvert_exporter": "python",
   "pygments_lexer": "ipython3",
   "version": "3.6.5"
  }
 },
 "nbformat": 4,
 "nbformat_minor": 2
}
